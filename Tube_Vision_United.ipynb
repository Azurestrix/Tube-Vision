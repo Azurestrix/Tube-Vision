{
  "nbformat": 4,
  "nbformat_minor": 0,
  "metadata": {
    "colab": {
      "provenance": [],
      "gpuType": "T4",
      "mount_file_id": "11-NdLYuCZCeBsFNAbBM7VP6bygDFDppv",
      "authorship_tag": "ABX9TyPQXjBTPKWAAUoP2WciES2f"
    },
    "kernelspec": {
      "name": "python3",
      "display_name": "Python 3"
    },
    "language_info": {
      "name": "python"
    },
    "accelerator": "GPU"
  },
  "cells": [
    {
      "cell_type": "code",
      "execution_count": 1,
      "metadata": {
        "colab": {
          "base_uri": "https://localhost:8080/",
          "height": 107
        },
        "id": "mQKBmXOct1Le",
        "outputId": "078b9099-37ee-4cd3-c8c7-be23d27f42b4"
      },
      "outputs": [
        {
          "output_type": "stream",
          "name": "stdout",
          "text": [
            "Collecting torchinfo\n",
            "  Downloading torchinfo-1.8.0-py3-none-any.whl (23 kB)\n",
            "Installing collected packages: torchinfo\n",
            "Successfully installed torchinfo-1.8.0\n"
          ]
        },
        {
          "output_type": "execute_result",
          "data": {
            "text/plain": [
              "'cuda'"
            ],
            "application/vnd.google.colaboratory.intrinsic+json": {
              "type": "string"
            }
          },
          "metadata": {},
          "execution_count": 1
        }
      ],
      "source": [
        "import torch\n",
        "import torchvision\n",
        "import torch.nn as nn\n",
        "import torchvision.models as models\n",
        "import torch.optim as optim\n",
        "import os\n",
        "from PIL import Image\n",
        "try:\n",
        "    import torchinfo\n",
        "except:\n",
        "    !pip install torchinfo\n",
        "    import torchinfo\n",
        "from torchinfo import summary\n",
        "from tqdm.auto import tqdm\n",
        "from timeit import default_timer as timer\n",
        "from torch.utils.data import DataLoader\n",
        "import torchvision.transforms as transforms\n",
        "from torchvision import datasets\n",
        "import matplotlib.pyplot as plt\n",
        "from typing import Tuple, Dict, List\n",
        "\n",
        "\n",
        "\n",
        "\n",
        "device = \"cuda\" if torch.cuda.is_available() else \"cpu\"\n",
        "device"
      ]
    },
    {
      "cell_type": "code",
      "source": [
        "nat_4ml_folder_path = \"/content/drive/MyDrive/Tube_Vision Model/Raw/4ml_unique\"\n",
        "lab1_folder_path = \"/content/drive/MyDrive/Tube_Vision Model/Raw/labor_1_unique\"\n",
        "\n",
        "loaded_raw_4ml_nat = [Image.open(os.path.join(nat_4ml_folder_path, f)) for f in os.listdir(nat_4ml_folder_path)]\n",
        "loaded_raw_lab1 = [Image.open(os.path.join(lab1_folder_path, f)) for f in os.listdir(lab1_folder_path)]"
      ],
      "metadata": {
        "id": "q-pIT2TZt-id"
      },
      "execution_count": 2,
      "outputs": []
    },
    {
      "cell_type": "code",
      "source": [
        "# DO NOT RUN!!!!!!!!!!!!!!!!!!!!!!!!!!!!!!!!!!!!!!!!\n",
        "from sklearn.model_selection import train_test_split\n",
        "import shutil\n",
        "\n",
        "def separate_data_into_train_test(x):\n",
        "  '''\n",
        "  0 = nat\n",
        "  1 = lab1\n",
        "  '''\n",
        "\n",
        "\n",
        "  if x == 0:\n",
        "    train_dir = \"/content/drive/MyDrive/Tube_Vision Model/nat4ml_lab1/train/nat_4ml\"\n",
        "    test_dir = \"/content/drive/MyDrive/Tube_Vision Model/nat4ml_lab1/test/nat_4ml\"\n",
        "\n",
        "    nat_train, nat_test = train_test_split(loaded_raw_4ml_nat,\n",
        "                                           test_size=0.4,\n",
        "                                           random_state=777)\n",
        "    print(\"Number of images in nat_train:\", len(nat_train))\n",
        "    print(\"Number of images in nat_test:\", len(nat_test))\n",
        "\n",
        "\n",
        "\n",
        "    for img in nat_train:\n",
        "      img_path = img.filename\n",
        "      filename = os.path.basename(img.filename)\n",
        "      new_image_path = os.path.join(train_dir, filename)\n",
        "      shutil.copyfile(img_path, new_image_path)\n",
        "    print(len(os.listdir(train_dir)))\n",
        "\n",
        "    for img in nat_test:\n",
        "      img_path = img.filename\n",
        "      filename = os.path.basename(img.filename)\n",
        "      new_image_path = os.path.join(test_dir, filename)\n",
        "      shutil.copyfile(img_path, new_image_path)\n",
        "    print(len(os.listdir(test_dir)))\n",
        "\n",
        "  elif x == 1:\n",
        "    train_dir = \"/content/drive/MyDrive/Tube_Vision Model/nat4ml_lab1/train/lab1\"\n",
        "    test_dir = \"/content/drive/MyDrive/Tube_Vision Model/nat4ml_lab1/test/lab1\"\n",
        "\n",
        "    lab1_train, lab1_test = train_test_split(loaded_raw_lab1,\n",
        "                                           test_size=0.4,\n",
        "                                           random_state=777)\n",
        "    print(\"Number of images in lab1_train:\", len(lab1_train))\n",
        "    print(\"Number of images in lab1_test:\", len(lab1_test))\n",
        "\n",
        "    for img in lab1_train:\n",
        "      img_path = img.filename\n",
        "      filename = os.path.basename(img.filename)\n",
        "      new_image_path = os.path.join(train_dir, filename)\n",
        "      shutil.copyfile(img_path, new_image_path)\n",
        "    print(len(os.listdir(train_dir)))\n",
        "\n",
        "    for img in lab1_test:\n",
        "      img_path = img.filename\n",
        "      filename = os.path.basename(img.filename)\n",
        "      new_image_path = os.path.join(test_dir, filename)\n",
        "      shutil.copyfile(img_path, new_image_path)\n",
        "    print(len(os.listdir(test_dir)))\n",
        "\n",
        "\n",
        "\n",
        "separate_data_into_train_test(0)\n",
        "separate_data_into_train_test(1)"
      ],
      "metadata": {
        "colab": {
          "base_uri": "https://localhost:8080/"
        },
        "id": "KILyNHQouOCm",
        "outputId": "aaee3880-e36a-434c-f72a-b04b30380c0a"
      },
      "execution_count": null,
      "outputs": [
        {
          "output_type": "stream",
          "name": "stdout",
          "text": [
            "Number of images in nat_train: 61\n",
            "Number of images in nat_test: 41\n",
            "61\n",
            "41\n",
            "Number of images in lab1_train: 33\n",
            "Number of images in lab1_test: 23\n",
            "33\n",
            "23\n"
          ]
        }
      ]
    },
    {
      "cell_type": "code",
      "source": [
        "# ALSO DO NOT RUNN\n",
        "import time\n",
        "\n",
        "def empty_train_test_subclasses():\n",
        "  \"\"\"\n",
        "  Deletes every image from train/test image folders.\n",
        "  \"\"\"\n",
        "  folder_list = [\n",
        "      \"/content/drive/MyDrive/Tube_Vision Model/nat4ml_lab1/train/lab1\",\n",
        "      \"/content/drive/MyDrive/Tube_Vision Model/nat4ml_lab1/train/nat_4ml\",\n",
        "      \"/content/drive/MyDrive/Tube_Vision Model/nat4ml_lab1/test/lab1\",\n",
        "      \"/content/drive/MyDrive/Tube_Vision Model/nat4ml_lab1/test/nat_4ml\"\n",
        "  ]\n",
        "\n",
        "  for folder_path in folder_list:\n",
        "      files = os.listdir(folder_path)\n",
        "      for file in files:\n",
        "          file_path = os.path.join(folder_path, file)\n",
        "          os.remove(file_path)\n",
        "\n",
        "  time.sleep(20)\n",
        "\n",
        "empty_train_test_subclasses()"
      ],
      "metadata": {
        "id": "rNDpP6jVuOlq"
      },
      "execution_count": null,
      "outputs": []
    },
    {
      "cell_type": "code",
      "source": [
        "train_dir =\"/content/drive/MyDrive/Tube_Vision Model/nat4ml_lab1/train\"\n",
        "test_dir =\"/content/drive/MyDrive/Tube_Vision Model/nat4ml_lab1/test\""
      ],
      "metadata": {
        "id": "5H1NH6PXuT0k"
      },
      "execution_count": 3,
      "outputs": []
    },
    {
      "cell_type": "code",
      "source": [
        "augmented_transform = transforms.Compose([\n",
        "    transforms.TrivialAugmentWide(num_magnitude_bins=31),\n",
        "    transforms.ToTensor()\n",
        "])\n",
        "\n",
        "simple_transform = transforms.Compose([\n",
        "    transforms.ToTensor()\n",
        "])\n",
        "\n",
        "train_dir =\"/content/drive/MyDrive/Tube_Vision Model/nat4ml_lab1/train\"\n",
        "test_dir =\"/content/drive/MyDrive/Tube_Vision Model/nat4ml_lab1/test\"\n",
        "\n",
        "# Load dataset\n",
        "train_dataset = datasets.ImageFolder(root=train_dir,\n",
        "                                     transform=augmented_transform)\n",
        "test_dataset = datasets.ImageFolder(root=test_dir,\n",
        "                                    transform=simple_transform)\n",
        "\n",
        "# Create data loaders\n",
        "train_loader = DataLoader(train_dataset,\n",
        "                          batch_size=1,\n",
        "                          num_workers=2)\n",
        "test_loader = DataLoader(test_dataset,\n",
        "                         batch_size=1,\n",
        "                         num_workers=2)\n",
        "\n",
        "# Define ResNet model\n",
        "model_resnet = models.resnet18(weights=None)\n",
        "num_features = model_resnet.fc.in_features\n",
        "model_resnet.fc = nn.Linear(num_features, len(train_dataset.classes))\n",
        "\n",
        "# Move the model to appropriate device\n",
        "device = torch.device(\"cuda\" if torch.cuda.is_available() else \"cpu\")\n",
        "model_resnet = model_resnet.to(device)\n",
        "\n",
        "# Define loss function and optimizer\n",
        "criterion = nn.CrossEntropyLoss()\n",
        "optimizer = optim.Adam(model_resnet.parameters(), lr=0.001)\n",
        "\n",
        "# Training loop\n",
        "for epoch in range(5):  # Number of epochs\n",
        "    model_resnet.train()\n",
        "    for images, labels in train_loader:\n",
        "        images, labels = images.to(device), labels.to(device)\n",
        "        optimizer.zero_grad()\n",
        "        outputs = model_resnet(images)\n",
        "        loss = criterion(outputs, labels)\n",
        "        loss.backward()\n",
        "        optimizer.step()\n",
        "\n",
        "    # Validation loop\n",
        "    model_resnet.eval()\n",
        "    val_loss = 0.0\n",
        "    correct = 0\n",
        "    total = 0\n",
        "    with torch.no_grad():\n",
        "        for images, labels in test_loader:\n",
        "            images, labels = images.to(device), labels.to(device)\n",
        "            outputs = model_resnet(images)\n",
        "            _, predicted = torch.max(outputs, 1)\n",
        "            total += labels.size(0)\n",
        "            correct += (predicted == labels).sum().item()\n",
        "            val_loss += criterion(outputs, labels).item()\n",
        "\n",
        "    print(f\"Epoch {epoch + 1}:\")\n",
        "    print(f\"Validation Loss: {val_loss / len(test_loader)}\")\n",
        "    print(f\"Validation Accuracy: {100 * correct / total}%\")"
      ],
      "metadata": {
        "colab": {
          "base_uri": "https://localhost:8080/"
        },
        "id": "6C_LcxqXy56Y",
        "outputId": "ecaae10f-ea44-4f55-8f87-43bc806f53ba"
      },
      "execution_count": 4,
      "outputs": [
        {
          "output_type": "stream",
          "name": "stdout",
          "text": [
            "Epoch 1:\n",
            "Validation Loss: 5.103132523429881\n",
            "Validation Accuracy: 64.0625%\n",
            "Epoch 2:\n",
            "Validation Loss: 3.8891409055725354\n",
            "Validation Accuracy: 64.0625%\n",
            "Epoch 3:\n",
            "Validation Loss: 0.7543516487348825\n",
            "Validation Accuracy: 64.0625%\n",
            "Epoch 4:\n",
            "Validation Loss: 1.6646219156382998\n",
            "Validation Accuracy: 64.0625%\n",
            "Epoch 5:\n",
            "Validation Loss: 2.1232724981455244\n",
            "Validation Accuracy: 64.0625%\n"
          ]
        }
      ]
    }
  ]
}